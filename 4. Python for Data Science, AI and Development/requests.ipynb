{
 "cells": [
  {
   "cell_type": "code",
   "execution_count": 2,
   "metadata": {},
   "outputs": [
    {
     "name": "stdout",
     "output_type": "stream",
     "text": [
      "200\n",
      "Wed, 27 Sep 2023 12:44:57 GMT\n",
      "text/html;charset=utf-8\n",
      "utf-8\n",
      "\n",
      "<!DOCTYPE HTML>\n",
      "<html lang=\"en-in\">\n",
      "<head>\n",
      "    \n",
      "    \n",
      "    \n",
      "    \n",
      "    <meta charset=\"UTF-8\"/>\n",
      "    <met\n"
     ]
    }
   ],
   "source": [
    "# Trying out requests library in python\n",
    "\n",
    "import requests\n",
    "\n",
    "url =\"https://www.ibm.com/\"\n",
    "r = requests.get(url)\n",
    "headers = r.headers\n",
    "print(r.status_code)\n",
    "print(headers['date'])\n",
    "print(headers['Content-Type'])\n",
    "print(r.encoding)\n",
    "print(r.text[:100])"
   ]
  },
  {
   "cell_type": "code",
   "execution_count": 3,
   "metadata": {},
   "outputs": [
    {
     "name": "stdout",
     "output_type": "stream",
     "text": [
      "http://httpbin.org/get?name=John&ID=123\n",
      "200\n",
      "{\n",
      "  \"args\": {\n",
      "    \"ID\": \"123\", \n",
      "    \"name\": \"John\"\n",
      "  }, \n",
      "  \"headers\": {\n",
      "    \"Accept\": \"*/*\", \n",
      "    \"Accept-Encoding\": \"gzip, deflate\", \n",
      "    \"Host\": \"httpbin.org\", \n",
      "    \"User-Agent\": \"python-requests/2.25.1\", \n",
      "    \"X-Amzn-Trace-Id\": \"Root=1-651423c9-1cee84812d99292210b80634\"\n",
      "  }, \n",
      "  \"origin\": \"117.254.35.16\", \n",
      "  \"url\": \"http://httpbin.org/get?name=John&ID=123\"\n",
      "}\n",
      "\n",
      "application/json\n",
      "{'ID': '123', 'name': 'John'}\n"
     ]
    }
   ],
   "source": [
    "# GET Request in python\n",
    "url_get = 'http://httpbin.org/get'\n",
    "payload={\"name\": \"John\", 'ID' : '123'}\n",
    "r = requests.get(url_get, params=payload)\n",
    "print(r.url)\n",
    "print(r.status_code)\n",
    "print(r.text)\n",
    "print(r.headers['Content-Type'])\n",
    "print(r.json()['args'])"
   ]
  },
  {
   "cell_type": "code",
   "execution_count": 4,
   "metadata": {},
   "outputs": [
    {
     "name": "stdout",
     "output_type": "stream",
     "text": [
      "<Response [200]>\n",
      "POST request URL:  http://httpbin.org/post\n",
      "GET request URL:  http://httpbin.org/get?name=John&ID=123\n",
      "POST request body:  name=John&ID=123\n"
     ]
    }
   ],
   "source": [
    "# POST Request in Python\n",
    "\n",
    "url_post = \"http://httpbin.org/post\"\n",
    "\n",
    "r_post = requests.post(url_post, data=payload)\n",
    "print(r_post)\n",
    "\n",
    "print(\"POST request URL: \", r_post.url)\n",
    "print(\"GET request URL: \", r.url)\n",
    "\n",
    "print(\"POST request body: \" , r_post.request.body)"
   ]
  },
  {
   "cell_type": "code",
   "execution_count": 29,
   "metadata": {},
   "outputs": [
    {
     "name": "stdout",
     "output_type": "stream",
     "text": [
      "<title> Page Title </title>\n",
      "<h3> <b id=\"boldest\"> Lebron James </b></h3>\n",
      "[<h3> <b id=\"boldest\"> Lebron James </b></h3>, <h3> <b id=\"boldest\"> Stephen Curry </b></h3>, <h3> <b id=\"boldest\"> Kevin Durant </b></h3>]\n"
     ]
    }
   ],
   "source": [
    "from bs4 import BeautifulSoup\n",
    "\n",
    "html =\"<!DOCTYPE html><html><head><title> Page Title </title> </head> <body> <h3> <b id='boldest'> Lebron James </b></h3> <p> Salary: $92,000,000</p> <h3> <b id='boldest'> Stephen Curry </b></h3> <p> Salary: $92,000,000</p> <h3> <b id='boldest'> Kevin Durant </b></h3> <p> Salary: $92,000,000</p></body> </html>\"\n",
    "\n",
    "soup = BeautifulSoup(html)\n",
    "tag_title = soup.title\n",
    "tag_h3 = soup.h3\n",
    "tag_p_all = soup.find_all(name=\"h3\")\n",
    "print(tag_title)\n",
    "print(tag_h3)\n",
    "print(tag_p_all)\n"
   ]
  }
 ],
 "metadata": {
  "kernelspec": {
   "display_name": "Python 3",
   "language": "python",
   "name": "python3"
  },
  "language_info": {
   "codemirror_mode": {
    "name": "ipython",
    "version": 3
   },
   "file_extension": ".py",
   "mimetype": "text/x-python",
   "name": "python",
   "nbconvert_exporter": "python",
   "pygments_lexer": "ipython3",
   "version": "3.9.8"
  },
  "orig_nbformat": 4
 },
 "nbformat": 4,
 "nbformat_minor": 2
}
